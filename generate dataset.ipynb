{
 "cells": [
  {
   "cell_type": "code",
   "execution_count": 8,
   "metadata": {},
   "outputs": [
    {
     "name": "stdout",
     "output_type": "stream",
     "text": [
      "800000\n"
     ]
    }
   ],
   "source": [
    "import random\n",
    "\n",
    "res = []\n",
    "\n",
    "#generating correct data \n",
    "#always in range of 19 - 21\n",
    "#we assume coverage = 20\n",
    "\n",
    "for j in range(1,800001):\n",
    "    res.append(random.randint(19,21))\n",
    "    \n",
    "print (len(res))"
   ]
  },
  {
   "cell_type": "code",
   "execution_count": 9,
   "metadata": {},
   "outputs": [
    {
     "name": "stdout",
     "output_type": "stream",
     "text": [
      "800000\n"
     ]
    }
   ],
   "source": [
    "duplication = []\n",
    "deletion = []\n",
    "\n",
    "#size of outliers\n",
    "len_outliers = 2000\n",
    "#generating 2000 duplactions to be insterted  at various positions \n",
    "#range of reads 100 - 500\n",
    "for i in range(1,len_outliers+1):\n",
    "    duplication.append(random.randint(100,500))\n",
    "\n",
    "#generating 2000 deletion to be insterted  at various positions \n",
    "#range of reads 0 - 10\n",
    "for i in range(1,len_outliers+1):\n",
    "    deletion.append(random.randint(0,8))    \n",
    "   \n",
    "#fucntion to insert outliers to the original list\n",
    "def insert_position(position, list):\n",
    "    res[position:position+len_outliers] = list\n",
    "\n",
    "#inserting duplication at differnet fixed location of the list\n",
    "#starting indices of insertion for duplication\n",
    "indices_dup = [0,15000,45000,110000,550000,795000]\n",
    "for i in indices_dup:\n",
    "    insert_position(i,duplication)\n",
    "    \n",
    "#inserting deletion at differnet fixed location of the list\n",
    "#starting indices of insertion for deletion\n",
    "indices_del = [6000,30000,70000,150000,685000]\n",
    "for i in indices_del:\n",
    "    insert_position(i,deletion)\n",
    "    \n",
    "\n",
    "print(len(res))\n",
    "\n"
   ]
  },
  {
   "cell_type": "code",
   "execution_count": 10,
   "metadata": {},
   "outputs": [],
   "source": [
    "#calculating mean median std iqr(inter quartile range) per sub window (size = 10bp)\n",
    "import numpy as np \n",
    "subWindowMean = []\n",
    "subWindowMedian = []\n",
    "subWindowSTD = []\n",
    "subWindowIQR = []\n",
    "for i in range(0,len(res),10):\n",
    "    subWindowMean.append(np.mean(res[i:i+10]))\n",
    "    subWindowMedian.append(np.median(res[i:i+10]))\n",
    "    subWindowSTD.append(np.std(res[i:i+10]))\n",
    "    iqr = np.subtract(*np.percentile(res[i:i+10], [75, 25]))\n",
    "    subWindowIQR.append(iqr)\n"
   ]
  },
  {
   "cell_type": "code",
   "execution_count": 11,
   "metadata": {},
   "outputs": [],
   "source": [
    "#forming vectors per window (size - 100bp)\n",
    "\n",
    "windowName = []\n",
    "mean = []\n",
    "median = []\n",
    "std = []\n",
    "iqr = []\n",
    "start_pos = []\n",
    "class_name = []\n",
    "k = 0\n",
    "for i in range(0,len(subWindowMean),10):\n",
    "    mean.append((np.sum(subWindowMean[i:i+10]))/10)\n",
    "    median.append((np.sum(subWindowMedian[i:i+10]))/10)\n",
    "    std.append((np.sum(subWindowSTD[i:i+10]))/10)\n",
    "    iqr.append((np.sum(subWindowIQR[i:i+10]))/10)\n",
    "    start_pos.append(i*10)\n",
    "    class_name.append('NOR')\n",
    "    windowName.append('window'+str(k))\n",
    "    k = k + 1\n",
    "\n"
   ]
  },
  {
   "cell_type": "code",
   "execution_count": 12,
   "metadata": {},
   "outputs": [],
   "source": [
    "#assiging classes for duplication\n",
    "for i in indices_dup:\n",
    "    start_window_index=0\n",
    "    end_window_index = 0\n",
    "    for k in start_pos:\n",
    "        if i in range(k,k+99):\n",
    "             start_window_index = int(k/100)\n",
    "        if (i+len_outliers) in range(k,k+100):\n",
    "            end_window_index = int(k/100)\n",
    "                \n",
    "    for index in range(start_window_index,end_window_index):\n",
    "        class_name[index] = \"DUP\"\n",
    "            \n",
    "#assiging classes for deletion\n",
    "for i in indices_del:\n",
    "    for k in start_pos:\n",
    "        if i in range(k,k+99):\n",
    "             start_window_index = int(k/100)\n",
    "        if (i+len_outliers) in range(k,k+100):\n",
    "            end_window_index = int(k/100)\n",
    "                \n",
    "    for index in range(start_window_index,end_window_index):\n",
    "        class_name[index] = \"DEL\"\n",
    "\n",
    "\n",
    "#randomly inserting impurities in dataset\n",
    "l = ['DUP','DEL','NOR']\n",
    "for i in range (0,20):\n",
    "    x = random.randint(0,2)\n",
    "    index = random.randint(0,8000)\n",
    "    class_name[index] = l[x]"
   ]
  },
  {
   "cell_type": "code",
   "execution_count": 13,
   "metadata": {},
   "outputs": [],
   "source": [
    "\n",
    "#creating the data set\n",
    "import pandas as pd  \n",
    "\n",
    "dict = {'window' : windowName, \n",
    "        'mean': mean, 'median': median, \n",
    "        'std': std, 'iqr' : iqr,\n",
    "        'start_index' : start_pos,\n",
    "        'class':class_name}  \n",
    "\n",
    "df = pd.DataFrame(dict) \n",
    "# saving the dataframe \n",
    "df.to_csv('dataset.csv', index=False) "
   ]
  },
  {
   "cell_type": "code",
   "execution_count": null,
   "metadata": {},
   "outputs": [],
   "source": []
  }
 ],
 "metadata": {
  "kernelspec": {
   "display_name": "Python 3",
   "language": "python",
   "name": "python3"
  },
  "language_info": {
   "codemirror_mode": {
    "name": "ipython",
    "version": 3
   },
   "file_extension": ".py",
   "mimetype": "text/x-python",
   "name": "python",
   "nbconvert_exporter": "python",
   "pygments_lexer": "ipython3",
   "version": "3.7.3"
  }
 },
 "nbformat": 4,
 "nbformat_minor": 2
}
