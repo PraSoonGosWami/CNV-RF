{
 "cells": [
  {
   "cell_type": "code",
   "execution_count": 134,
   "metadata": {},
   "outputs": [
    {
     "name": "stdout",
     "output_type": "stream",
     "text": [
      "Libraries Imported\n"
     ]
    }
   ],
   "source": [
    "#Importing Libraries\n",
    "import numpy as np\n",
    "import pandas as pd\n",
    "from sklearn.model_selection import train_test_split\n",
    "from sklearn.preprocessing import StandardScaler\n",
    "from sklearn.ensemble import RandomForestClassifier\n",
    "from sklearn.metrics import confusion_matrix\n",
    "from sklearn.metrics import classification_report,confusion_matrix,accuracy_score, roc_curve, auc,precision_score\n",
    "%matplotlib inline\n",
    "import seaborn as sns\n",
    "import matplotlib.pyplot as plt\n",
    "\n",
    "\n",
    "print('Libraries Imported')"
   ]
  },
  {
   "cell_type": "code",
   "execution_count": 135,
   "metadata": {},
   "outputs": [
    {
     "name": "stdout",
     "output_type": "stream",
     "text": [
      "Shape of the dataset: (8000, 7)\n",
      "    window    mean  median         std      iqr  s_index  out\n",
      "0  window0  306.03   297.9  115.158153  170.800        0  DUP\n",
      "1  window1  305.26   315.3  118.049034  182.275      100  DUP\n",
      "2  window2  300.61   301.1  109.083189  162.475      200  DUP\n",
      "3  window3  314.00   307.3  108.027506  166.225      300  DUP\n",
      "4  window4  309.24   315.1  114.686093  185.750      400  DUP\n"
     ]
    },
    {
     "data": {
      "text/html": [
       "<div>\n",
       "<style scoped>\n",
       "    .dataframe tbody tr th:only-of-type {\n",
       "        vertical-align: middle;\n",
       "    }\n",
       "\n",
       "    .dataframe tbody tr th {\n",
       "        vertical-align: top;\n",
       "    }\n",
       "\n",
       "    .dataframe thead th {\n",
       "        text-align: right;\n",
       "    }\n",
       "</style>\n",
       "<table border=\"1\" class=\"dataframe\">\n",
       "  <thead>\n",
       "    <tr style=\"text-align: right;\">\n",
       "      <th></th>\n",
       "      <th>mean</th>\n",
       "      <th>median</th>\n",
       "      <th>std</th>\n",
       "      <th>iqr</th>\n",
       "      <th>s_index</th>\n",
       "    </tr>\n",
       "  </thead>\n",
       "  <tbody>\n",
       "    <tr>\n",
       "      <th>count</th>\n",
       "      <td>8000.000000</td>\n",
       "      <td>8000.000000</td>\n",
       "      <td>8000.000000</td>\n",
       "      <td>8000.000000</td>\n",
       "      <td>8000.000000</td>\n",
       "    </tr>\n",
       "    <tr>\n",
       "      <th>mean</th>\n",
       "      <td>24.104341</td>\n",
       "      <td>24.096644</td>\n",
       "      <td>2.408060</td>\n",
       "      <td>3.748972</td>\n",
       "      <td>399950.000000</td>\n",
       "    </tr>\n",
       "    <tr>\n",
       "      <th>std</th>\n",
       "      <td>34.979926</td>\n",
       "      <td>34.921010</td>\n",
       "      <td>13.159218</td>\n",
       "      <td>20.067843</td>\n",
       "      <td>230954.540982</td>\n",
       "    </tr>\n",
       "    <tr>\n",
       "      <th>min</th>\n",
       "      <td>3.500000</td>\n",
       "      <td>3.300000</td>\n",
       "      <td>0.611215</td>\n",
       "      <td>0.650000</td>\n",
       "      <td>0.000000</td>\n",
       "    </tr>\n",
       "    <tr>\n",
       "      <th>25%</th>\n",
       "      <td>19.940000</td>\n",
       "      <td>19.900000</td>\n",
       "      <td>0.745111</td>\n",
       "      <td>1.150000</td>\n",
       "      <td>199975.000000</td>\n",
       "    </tr>\n",
       "    <tr>\n",
       "      <th>50%</th>\n",
       "      <td>20.000000</td>\n",
       "      <td>20.000000</td>\n",
       "      <td>0.769497</td>\n",
       "      <td>1.250000</td>\n",
       "      <td>399950.000000</td>\n",
       "    </tr>\n",
       "    <tr>\n",
       "      <th>75%</th>\n",
       "      <td>20.060000</td>\n",
       "      <td>20.100000</td>\n",
       "      <td>0.793211</td>\n",
       "      <td>1.375000</td>\n",
       "      <td>599925.000000</td>\n",
       "    </tr>\n",
       "    <tr>\n",
       "      <th>max</th>\n",
       "      <td>336.520000</td>\n",
       "      <td>337.500000</td>\n",
       "      <td>119.648365</td>\n",
       "      <td>202.325000</td>\n",
       "      <td>799900.000000</td>\n",
       "    </tr>\n",
       "  </tbody>\n",
       "</table>\n",
       "</div>"
      ],
      "text/plain": [
       "              mean       median          std          iqr        s_index\n",
       "count  8000.000000  8000.000000  8000.000000  8000.000000    8000.000000\n",
       "mean     24.104341    24.096644     2.408060     3.748972  399950.000000\n",
       "std      34.979926    34.921010    13.159218    20.067843  230954.540982\n",
       "min       3.500000     3.300000     0.611215     0.650000       0.000000\n",
       "25%      19.940000    19.900000     0.745111     1.150000  199975.000000\n",
       "50%      20.000000    20.000000     0.769497     1.250000  399950.000000\n",
       "75%      20.060000    20.100000     0.793211     1.375000  599925.000000\n",
       "max     336.520000   337.500000   119.648365   202.325000  799900.000000"
      ]
     },
     "execution_count": 135,
     "metadata": {},
     "output_type": "execute_result"
    }
   ],
   "source": [
    "#importing the dataset\n",
    "dataset = pd.read_csv('dataset.csv')\n",
    "\n",
    "dataset.columns = ['window', 'mean','median','std','iqr','s_index','out']\n",
    "\n",
    "print('Shape of the dataset: ' + str(dataset.shape))\n",
    "\n",
    "print(dataset.head())\n",
    "\n",
    "dataset.describe()\n"
   ]
  },
  {
   "cell_type": "code",
   "execution_count": 136,
   "metadata": {},
   "outputs": [
    {
     "data": {
      "image/png": "[encoded data removed]",
      "text/plain": [
       "<Figure size 432x288 with 1 Axes>"
      ]
     },
     "metadata": {
      "needs_background": "light"
     },
     "output_type": "display_data"
    },
    {
     "data": {
      "image/png": "[encoded data removed]",
      "text/plain": [
       "<Figure size 432x288 with 1 Axes>"
      ]
     },
     "metadata": {
      "needs_background": "light"
     },
     "output_type": "display_data"
    }
   ],
   "source": [
    "#scatter plot\n",
    "sns.scatterplot(x = 'mean', y = 'median', data = dataset, hue = 'out')\n",
    "plt.title('Mean vs Median')\n",
    "plt.show()\n",
    "\n",
    "sns.scatterplot(x = 'std', y = 'iqr', data = dataset, hue = 'out')\n",
    "plt.title('Standard deviation vs IQR')\n",
    "plt.show()"
   ]
  },
  {
   "cell_type": "code",
   "execution_count": 137,
   "metadata": {},
   "outputs": [
    {
     "data": {
      "image/png": "[encoded data removed]",
      "text/plain": [
       "<Figure size 432x288 with 1 Axes>"
      ]
     },
     "metadata": {
      "needs_background": "light"
     },
     "output_type": "display_data"
    },
    {
     "data": {
      "image/png": "[encoded data removed]",
      "text/plain": [
       "<Figure size 432x288 with 1 Axes>"
      ]
     },
     "metadata": {
      "needs_background": "light"
     },
     "output_type": "display_data"
    },
    {
     "data": {
      "image/png": "[encoded data removed]",
      "text/plain": [
       "<Figure size 432x288 with 1 Axes>"
      ]
     },
     "metadata": {
      "needs_background": "light"
     },
     "output_type": "display_data"
    },
    {
     "data": {
      "image/png": "[encoded data removed]",
      "text/plain": [
       "<Figure size 432x288 with 1 Axes>"
      ]
     },
     "metadata": {
      "needs_background": "light"
     },
     "output_type": "display_data"
    }
   ],
   "source": [
    "#box plots\n",
    "sns.boxplot(x = \"out\", y = \"mean\", data = dataset)\n",
    "plt.title(\"Box plot for mean\")\n",
    "plt.show()\n",
    "\n",
    "\n",
    "sns.boxplot(x = \"out\", y = \"median\", data = dataset)\n",
    "plt.title(\"Box plot for median\")\n",
    "plt.show()\n",
    "\n",
    "\n",
    "sns.boxplot(x = \"out\", y = \"std\", data = dataset)\n",
    "plt.title(\"Box plot for STD\")\n",
    "plt.show()\n",
    "\n",
    "sns.boxplot(x = \"out\", y = \"iqr\", data = dataset)\n",
    "plt.title(\"Box plot for Inter quartile distance\")\n",
    "plt.show()"
   ]
  },
  {
   "cell_type": "code",
   "execution_count": 138,
   "metadata": {},
   "outputs": [
    {
     "data": {
      "image/png": "[encoded data removed]",
      "text/plain": [
       "<Figure size 432x288 with 2 Axes>"
      ]
     },
     "metadata": {
      "needs_background": "light"
     },
     "output_type": "display_data"
    }
   ],
   "source": [
    "#Correlation heat map\n",
    "\n",
    "no_id_data = dataset.copy()\n",
    "sns.heatmap(data = no_id_data.corr(), annot = True)\n",
    "plt.show()"
   ]
  },
  {
   "cell_type": "code",
   "execution_count": 139,
   "metadata": {},
   "outputs": [
    {
     "name": "stdout",
     "output_type": "stream",
     "text": [
      "0    0\n",
      "1    0\n",
      "2    0\n",
      "3    0\n",
      "4    0\n",
      "Name: out, dtype: int64\n",
      "Index(['DUP', 'NOR', 'DEL'], dtype='object')\n"
     ]
    }
   ],
   "source": [
    "#Creating the dependent variable class\n",
    "factor = pd.factorize(dataset['out'])\n",
    "dataset.out = factor[0]\n",
    "definitions = factor[1]\n",
    "print(dataset.out.head())\n",
    "print(definitions)"
   ]
  },
  {
   "cell_type": "code",
   "execution_count": 140,
   "metadata": {},
   "outputs": [
    {
     "name": "stdout",
     "output_type": "stream",
     "text": [
      "The independent features set: \n",
      "[[306.03       297.9        115.1581534  170.8       ]\n",
      " [305.26       315.3        118.04903383 182.275     ]]\n",
      "The dependent variable: \n",
      "[0 0]\n"
     ]
    }
   ],
   "source": [
    "#Splitting the data into independent and dependent variables\n",
    "\n",
    "#excuding start_index and window name\n",
    "X = dataset.iloc[:,1:5].values\n",
    "\n",
    "y = dataset.iloc[:,6].values\n",
    "print('The independent features set: ')\n",
    "print(X[:2,:])\n",
    "print('The dependent variable: ')\n",
    "print(y[:2])"
   ]
  },
  {
   "cell_type": "code",
   "execution_count": 141,
   "metadata": {},
   "outputs": [],
   "source": [
    "# Creating the Training and Test set from data\n",
    "X_train, X_test, y_train, y_test = train_test_split(X, y, test_size = 0.25, random_state = 100)\n"
   ]
  },
  {
   "cell_type": "code",
   "execution_count": 142,
   "metadata": {},
   "outputs": [],
   "source": [
    "# Feature Scaling\n",
    "scaler = StandardScaler()\n",
    "X_train = scaler.fit_transform(X_train)\n",
    "X_test = scaler.transform(X_test)\n"
   ]
  },
  {
   "cell_type": "code",
   "execution_count": null,
   "metadata": {},
   "outputs": [],
   "source": [
    "# Fitting Random Forest Classification to the Training set\n",
    "classifier = RandomForestClassifier(n_estimators = 10, criterion = 'entropy', random_state = 42)\n",
    "classifier.fit(X_train, y_train)"
   ]
  },
  {
   "cell_type": "code",
   "execution_count": 144,
   "metadata": {},
   "outputs": [
    {
     "name": "stdout",
     "output_type": "stream",
     "text": [
      "-----------------Confusion Matrix ---------------------------\n",
      "Predicted  DEL  DUP   NOR\n",
      "Actual                   \n",
      "DEL         31    0     1\n",
      "DUP          0   16     1\n",
      "NOR          0    1  1950\n"
     ]
    }
   ],
   "source": [
    "# Predicting the Test set results\n",
    "y_pred = classifier.predict(X_test)\n",
    "#Reverse factorize (converting y_pred from 0s,1s and 2s to DUP, NOR, DEL\n",
    "reversefactor = dict(zip(range(3),definitions))\n",
    "y_test = np.vectorize(reversefactor.get)(y_test)\n",
    "y_pred = np.vectorize(reversefactor.get)(y_pred)\n",
    "# Making the Confusion Matrix\n",
    "print('-----------------Confusion Matrix ---------------------------')\n",
    "print(pd.crosstab(y_test, y_pred, rownames=['Actual'], colnames=['Predicted']))"
   ]
  },
  {
   "cell_type": "code",
   "execution_count": 145,
   "metadata": {},
   "outputs": [
    {
     "name": "stdout",
     "output_type": "stream",
     "text": [
      "---------------------Classification Report--------------------\n",
      "               precision    recall  f1-score   support\n",
      "\n",
      "         DEL       1.00      0.97      0.98        32\n",
      "         DUP       0.94      0.94      0.94        17\n",
      "         NOR       1.00      1.00      1.00      1951\n",
      "\n",
      "    accuracy                           1.00      2000\n",
      "   macro avg       0.98      0.97      0.97      2000\n",
      "weighted avg       1.00      1.00      1.00      2000\n",
      "\n"
     ]
    }
   ],
   "source": [
    "CR_RF = classification_report(y_test,y_pred)\n",
    "print(\"---------------------Classification Report--------------------\\n\",CR_RF)"
   ]
  },
  {
   "cell_type": "code",
   "execution_count": null,
   "metadata": {},
   "outputs": [],
   "source": []
  }
 ],
 "metadata": {
  "kernelspec": {
   "display_name": "Python 3",
   "language": "python",
   "name": "python3"
  },
  "language_info": {
   "codemirror_mode": {
    "name": "ipython",
    "version": 3
   },
   "file_extension": ".py",
   "mimetype": "text/x-python",
   "name": "python",
   "nbconvert_exporter": "python",
   "pygments_lexer": "ipython3",
   "version": "3.7.3"
  }
 },
 "nbformat": 4,
 "nbformat_minor": 2
}
